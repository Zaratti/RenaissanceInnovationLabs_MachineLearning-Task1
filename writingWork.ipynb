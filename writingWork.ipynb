{
 "cells": [
  {
   "cell_type": "code",
   "execution_count": 3,
   "id": "3d59873d-b85b-41da-a553-a0e1e0bc4b3d",
   "metadata": {},
   "outputs": [
    {
     "name": "stdout",
     "output_type": "stream",
     "text": [
      "Requirement already satisfied: easyocr in c:\\users\\dell\\anaconda3\\lib\\site-packages (1.7.2)\n",
      "Requirement already satisfied: torch in c:\\users\\dell\\anaconda3\\lib\\site-packages (from easyocr) (2.4.1)\n",
      "Requirement already satisfied: torchvision>=0.5 in c:\\users\\dell\\anaconda3\\lib\\site-packages (from easyocr) (0.19.1)\n",
      "Requirement already satisfied: opencv-python-headless in c:\\users\\dell\\anaconda3\\lib\\site-packages (from easyocr) (4.10.0.84)\n",
      "Requirement already satisfied: scipy in c:\\users\\dell\\anaconda3\\lib\\site-packages (from easyocr) (1.11.4)\n",
      "Requirement already satisfied: numpy in c:\\users\\dell\\anaconda3\\lib\\site-packages (from easyocr) (1.26.4)\n",
      "Requirement already satisfied: Pillow in c:\\users\\dell\\anaconda3\\lib\\site-packages (from easyocr) (10.2.0)\n",
      "Requirement already satisfied: scikit-image in c:\\users\\dell\\anaconda3\\lib\\site-packages (from easyocr) (0.22.0)\n",
      "Requirement already satisfied: python-bidi in c:\\users\\dell\\anaconda3\\lib\\site-packages (from easyocr) (0.6.3)\n",
      "Requirement already satisfied: PyYAML in c:\\users\\dell\\anaconda3\\lib\\site-packages (from easyocr) (6.0.1)\n",
      "Requirement already satisfied: Shapely in c:\\users\\dell\\anaconda3\\lib\\site-packages (from easyocr) (2.0.6)\n",
      "Requirement already satisfied: pyclipper in c:\\users\\dell\\anaconda3\\lib\\site-packages (from easyocr) (1.3.0.post5)\n",
      "Requirement already satisfied: ninja in c:\\users\\dell\\anaconda3\\lib\\site-packages (from easyocr) (1.11.1.1)\n",
      "Requirement already satisfied: filelock in c:\\users\\dell\\anaconda3\\lib\\site-packages (from torch->easyocr) (3.13.1)\n",
      "Requirement already satisfied: typing-extensions>=4.8.0 in c:\\users\\dell\\anaconda3\\lib\\site-packages (from torch->easyocr) (4.12.2)\n",
      "Requirement already satisfied: sympy in c:\\users\\dell\\anaconda3\\lib\\site-packages (from torch->easyocr) (1.12)\n",
      "Requirement already satisfied: networkx in c:\\users\\dell\\anaconda3\\lib\\site-packages (from torch->easyocr) (3.1)\n",
      "Requirement already satisfied: jinja2 in c:\\users\\dell\\anaconda3\\lib\\site-packages (from torch->easyocr) (3.1.3)\n",
      "Requirement already satisfied: fsspec in c:\\users\\dell\\anaconda3\\lib\\site-packages (from torch->easyocr) (2023.10.0)\n",
      "Requirement already satisfied: imageio>=2.27 in c:\\users\\dell\\anaconda3\\lib\\site-packages (from scikit-image->easyocr) (2.33.1)\n",
      "Requirement already satisfied: tifffile>=2022.8.12 in c:\\users\\dell\\anaconda3\\lib\\site-packages (from scikit-image->easyocr) (2023.4.12)\n",
      "Requirement already satisfied: packaging>=21 in c:\\users\\dell\\anaconda3\\lib\\site-packages (from scikit-image->easyocr) (24.1)\n",
      "Requirement already satisfied: lazy_loader>=0.3 in c:\\users\\dell\\anaconda3\\lib\\site-packages (from scikit-image->easyocr) (0.3)\n",
      "Requirement already satisfied: MarkupSafe>=2.0 in c:\\users\\dell\\anaconda3\\lib\\site-packages (from jinja2->torch->easyocr) (2.1.3)\n",
      "Requirement already satisfied: mpmath>=0.19 in c:\\users\\dell\\anaconda3\\lib\\site-packages (from sympy->torch->easyocr) (1.3.0)\n",
      "Note: you may need to restart the kernel to use updated packages.\n"
     ]
    }
   ],
   "source": [
    "pip install easyocr"
   ]
  },
  {
   "cell_type": "code",
   "execution_count": 4,
   "id": "221a774f-30bc-424c-af00-db944aae24ce",
   "metadata": {},
   "outputs": [
    {
     "name": "stdout",
     "output_type": "stream",
     "text": [
      "Requirement already satisfied: transformers in c:\\users\\dell\\anaconda3\\lib\\site-packages (4.45.2)\n",
      "Requirement already satisfied: filelock in c:\\users\\dell\\anaconda3\\lib\\site-packages (from transformers) (3.13.1)\n",
      "Requirement already satisfied: huggingface-hub<1.0,>=0.23.2 in c:\\users\\dell\\anaconda3\\lib\\site-packages (from transformers) (0.25.2)\n",
      "Requirement already satisfied: numpy>=1.17 in c:\\users\\dell\\anaconda3\\lib\\site-packages (from transformers) (1.26.4)\n",
      "Requirement already satisfied: packaging>=20.0 in c:\\users\\dell\\anaconda3\\lib\\site-packages (from transformers) (24.1)\n",
      "Requirement already satisfied: pyyaml>=5.1 in c:\\users\\dell\\anaconda3\\lib\\site-packages (from transformers) (6.0.1)\n",
      "Requirement already satisfied: regex!=2019.12.17 in c:\\users\\dell\\anaconda3\\lib\\site-packages (from transformers) (2023.10.3)\n",
      "Requirement already satisfied: requests in c:\\users\\dell\\anaconda3\\lib\\site-packages (from transformers) (2.31.0)\n",
      "Requirement already satisfied: safetensors>=0.4.1 in c:\\users\\dell\\anaconda3\\lib\\site-packages (from transformers) (0.4.5)\n",
      "Requirement already satisfied: tokenizers<0.21,>=0.20 in c:\\users\\dell\\anaconda3\\lib\\site-packages (from transformers) (0.20.1)\n",
      "Requirement already satisfied: tqdm>=4.27 in c:\\users\\dell\\anaconda3\\lib\\site-packages (from transformers) (4.65.0)\n",
      "Requirement already satisfied: fsspec>=2023.5.0 in c:\\users\\dell\\anaconda3\\lib\\site-packages (from huggingface-hub<1.0,>=0.23.2->transformers) (2023.10.0)\n",
      "Requirement already satisfied: typing-extensions>=3.7.4.3 in c:\\users\\dell\\anaconda3\\lib\\site-packages (from huggingface-hub<1.0,>=0.23.2->transformers) (4.12.2)\n",
      "Requirement already satisfied: colorama in c:\\users\\dell\\anaconda3\\lib\\site-packages (from tqdm>=4.27->transformers) (0.4.6)\n",
      "Requirement already satisfied: charset-normalizer<4,>=2 in c:\\users\\dell\\anaconda3\\lib\\site-packages (from requests->transformers) (2.0.4)\n",
      "Requirement already satisfied: idna<4,>=2.5 in c:\\users\\dell\\anaconda3\\lib\\site-packages (from requests->transformers) (3.4)\n",
      "Requirement already satisfied: urllib3<3,>=1.21.1 in c:\\users\\dell\\anaconda3\\lib\\site-packages (from requests->transformers) (2.0.7)\n",
      "Requirement already satisfied: certifi>=2017.4.17 in c:\\users\\dell\\anaconda3\\lib\\site-packages (from requests->transformers) (2024.8.30)\n",
      "Note: you may need to restart the kernel to use updated packages.\n"
     ]
    }
   ],
   "source": [
    "pip install transformers"
   ]
  },
  {
   "cell_type": "code",
   "execution_count": 5,
   "id": "aee0037c-9161-4ed5-99cb-55de64fcee25",
   "metadata": {},
   "outputs": [
    {
     "name": "stdout",
     "output_type": "stream",
     "text": [
      "Requirement already satisfied: tf-keras in c:\\users\\dell\\anaconda3\\lib\\site-packages (2.17.0)\n",
      "Requirement already satisfied: tensorflow<2.18,>=2.17 in c:\\users\\dell\\anaconda3\\lib\\site-packages (from tf-keras) (2.17.0)\n",
      "Requirement already satisfied: tensorflow-intel==2.17.0 in c:\\users\\dell\\anaconda3\\lib\\site-packages (from tensorflow<2.18,>=2.17->tf-keras) (2.17.0)\n",
      "Requirement already satisfied: absl-py>=1.0.0 in c:\\users\\dell\\anaconda3\\lib\\site-packages (from tensorflow-intel==2.17.0->tensorflow<2.18,>=2.17->tf-keras) (2.1.0)\n",
      "Requirement already satisfied: astunparse>=1.6.0 in c:\\users\\dell\\anaconda3\\lib\\site-packages (from tensorflow-intel==2.17.0->tensorflow<2.18,>=2.17->tf-keras) (1.6.3)\n",
      "Requirement already satisfied: flatbuffers>=24.3.25 in c:\\users\\dell\\anaconda3\\lib\\site-packages (from tensorflow-intel==2.17.0->tensorflow<2.18,>=2.17->tf-keras) (24.3.25)\n",
      "Requirement already satisfied: gast!=0.5.0,!=0.5.1,!=0.5.2,>=0.2.1 in c:\\users\\dell\\anaconda3\\lib\\site-packages (from tensorflow-intel==2.17.0->tensorflow<2.18,>=2.17->tf-keras) (0.6.0)\n",
      "Requirement already satisfied: google-pasta>=0.1.1 in c:\\users\\dell\\anaconda3\\lib\\site-packages (from tensorflow-intel==2.17.0->tensorflow<2.18,>=2.17->tf-keras) (0.2.0)\n",
      "Requirement already satisfied: h5py>=3.10.0 in c:\\users\\dell\\anaconda3\\lib\\site-packages (from tensorflow-intel==2.17.0->tensorflow<2.18,>=2.17->tf-keras) (3.12.1)\n",
      "Requirement already satisfied: libclang>=13.0.0 in c:\\users\\dell\\anaconda3\\lib\\site-packages (from tensorflow-intel==2.17.0->tensorflow<2.18,>=2.17->tf-keras) (18.1.1)\n",
      "Requirement already satisfied: ml-dtypes<0.5.0,>=0.3.1 in c:\\users\\dell\\anaconda3\\lib\\site-packages (from tensorflow-intel==2.17.0->tensorflow<2.18,>=2.17->tf-keras) (0.4.1)\n",
      "Requirement already satisfied: opt-einsum>=2.3.2 in c:\\users\\dell\\anaconda3\\lib\\site-packages (from tensorflow-intel==2.17.0->tensorflow<2.18,>=2.17->tf-keras) (3.4.0)\n",
      "Requirement already satisfied: packaging in c:\\users\\dell\\anaconda3\\lib\\site-packages (from tensorflow-intel==2.17.0->tensorflow<2.18,>=2.17->tf-keras) (24.1)\n",
      "Requirement already satisfied: protobuf!=4.21.0,!=4.21.1,!=4.21.2,!=4.21.3,!=4.21.4,!=4.21.5,<5.0.0dev,>=3.20.3 in c:\\users\\dell\\anaconda3\\lib\\site-packages (from tensorflow-intel==2.17.0->tensorflow<2.18,>=2.17->tf-keras) (3.20.3)\n",
      "Requirement already satisfied: requests<3,>=2.21.0 in c:\\users\\dell\\anaconda3\\lib\\site-packages (from tensorflow-intel==2.17.0->tensorflow<2.18,>=2.17->tf-keras) (2.31.0)\n",
      "Requirement already satisfied: setuptools in c:\\users\\dell\\anaconda3\\lib\\site-packages (from tensorflow-intel==2.17.0->tensorflow<2.18,>=2.17->tf-keras) (68.2.2)\n",
      "Requirement already satisfied: six>=1.12.0 in c:\\users\\dell\\anaconda3\\lib\\site-packages (from tensorflow-intel==2.17.0->tensorflow<2.18,>=2.17->tf-keras) (1.16.0)\n",
      "Requirement already satisfied: termcolor>=1.1.0 in c:\\users\\dell\\anaconda3\\lib\\site-packages (from tensorflow-intel==2.17.0->tensorflow<2.18,>=2.17->tf-keras) (2.5.0)\n",
      "Requirement already satisfied: typing-extensions>=3.6.6 in c:\\users\\dell\\anaconda3\\lib\\site-packages (from tensorflow-intel==2.17.0->tensorflow<2.18,>=2.17->tf-keras) (4.12.2)\n",
      "Requirement already satisfied: wrapt>=1.11.0 in c:\\users\\dell\\anaconda3\\lib\\site-packages (from tensorflow-intel==2.17.0->tensorflow<2.18,>=2.17->tf-keras) (1.14.1)\n",
      "Requirement already satisfied: grpcio<2.0,>=1.24.3 in c:\\users\\dell\\anaconda3\\lib\\site-packages (from tensorflow-intel==2.17.0->tensorflow<2.18,>=2.17->tf-keras) (1.66.2)\n",
      "Requirement already satisfied: tensorboard<2.18,>=2.17 in c:\\users\\dell\\anaconda3\\lib\\site-packages (from tensorflow-intel==2.17.0->tensorflow<2.18,>=2.17->tf-keras) (2.17.1)\n",
      "Requirement already satisfied: keras>=3.2.0 in c:\\users\\dell\\anaconda3\\lib\\site-packages (from tensorflow-intel==2.17.0->tensorflow<2.18,>=2.17->tf-keras) (3.6.0)\n",
      "Requirement already satisfied: tensorflow-io-gcs-filesystem>=0.23.1 in c:\\users\\dell\\anaconda3\\lib\\site-packages (from tensorflow-intel==2.17.0->tensorflow<2.18,>=2.17->tf-keras) (0.31.0)\n",
      "Requirement already satisfied: numpy<2.0.0,>=1.23.5 in c:\\users\\dell\\anaconda3\\lib\\site-packages (from tensorflow-intel==2.17.0->tensorflow<2.18,>=2.17->tf-keras) (1.26.4)\n",
      "Requirement already satisfied: wheel<1.0,>=0.23.0 in c:\\users\\dell\\anaconda3\\lib\\site-packages (from astunparse>=1.6.0->tensorflow-intel==2.17.0->tensorflow<2.18,>=2.17->tf-keras) (0.41.2)\n",
      "Requirement already satisfied: rich in c:\\users\\dell\\anaconda3\\lib\\site-packages (from keras>=3.2.0->tensorflow-intel==2.17.0->tensorflow<2.18,>=2.17->tf-keras) (13.3.5)\n",
      "Requirement already satisfied: namex in c:\\users\\dell\\anaconda3\\lib\\site-packages (from keras>=3.2.0->tensorflow-intel==2.17.0->tensorflow<2.18,>=2.17->tf-keras) (0.0.8)\n",
      "Requirement already satisfied: optree in c:\\users\\dell\\anaconda3\\lib\\site-packages (from keras>=3.2.0->tensorflow-intel==2.17.0->tensorflow<2.18,>=2.17->tf-keras) (0.13.0)\n",
      "Requirement already satisfied: charset-normalizer<4,>=2 in c:\\users\\dell\\anaconda3\\lib\\site-packages (from requests<3,>=2.21.0->tensorflow-intel==2.17.0->tensorflow<2.18,>=2.17->tf-keras) (2.0.4)\n",
      "Requirement already satisfied: idna<4,>=2.5 in c:\\users\\dell\\anaconda3\\lib\\site-packages (from requests<3,>=2.21.0->tensorflow-intel==2.17.0->tensorflow<2.18,>=2.17->tf-keras) (3.4)\n",
      "Requirement already satisfied: urllib3<3,>=1.21.1 in c:\\users\\dell\\anaconda3\\lib\\site-packages (from requests<3,>=2.21.0->tensorflow-intel==2.17.0->tensorflow<2.18,>=2.17->tf-keras) (2.0.7)\n",
      "Requirement already satisfied: certifi>=2017.4.17 in c:\\users\\dell\\anaconda3\\lib\\site-packages (from requests<3,>=2.21.0->tensorflow-intel==2.17.0->tensorflow<2.18,>=2.17->tf-keras) (2024.8.30)\n",
      "Requirement already satisfied: markdown>=2.6.8 in c:\\users\\dell\\anaconda3\\lib\\site-packages (from tensorboard<2.18,>=2.17->tensorflow-intel==2.17.0->tensorflow<2.18,>=2.17->tf-keras) (3.4.1)\n",
      "Requirement already satisfied: tensorboard-data-server<0.8.0,>=0.7.0 in c:\\users\\dell\\anaconda3\\lib\\site-packages (from tensorboard<2.18,>=2.17->tensorflow-intel==2.17.0->tensorflow<2.18,>=2.17->tf-keras) (0.7.2)\n",
      "Requirement already satisfied: werkzeug>=1.0.1 in c:\\users\\dell\\anaconda3\\lib\\site-packages (from tensorboard<2.18,>=2.17->tensorflow-intel==2.17.0->tensorflow<2.18,>=2.17->tf-keras) (2.2.3)\n",
      "Requirement already satisfied: MarkupSafe>=2.1.1 in c:\\users\\dell\\anaconda3\\lib\\site-packages (from werkzeug>=1.0.1->tensorboard<2.18,>=2.17->tensorflow-intel==2.17.0->tensorflow<2.18,>=2.17->tf-keras) (2.1.3)\n",
      "Requirement already satisfied: markdown-it-py<3.0.0,>=2.2.0 in c:\\users\\dell\\anaconda3\\lib\\site-packages (from rich->keras>=3.2.0->tensorflow-intel==2.17.0->tensorflow<2.18,>=2.17->tf-keras) (2.2.0)\n",
      "Requirement already satisfied: pygments<3.0.0,>=2.13.0 in c:\\users\\dell\\anaconda3\\lib\\site-packages (from rich->keras>=3.2.0->tensorflow-intel==2.17.0->tensorflow<2.18,>=2.17->tf-keras) (2.15.1)\n",
      "Requirement already satisfied: mdurl~=0.1 in c:\\users\\dell\\anaconda3\\lib\\site-packages (from markdown-it-py<3.0.0,>=2.2.0->rich->keras>=3.2.0->tensorflow-intel==2.17.0->tensorflow<2.18,>=2.17->tf-keras) (0.1.0)\n",
      "Note: you may need to restart the kernel to use updated packages.\n"
     ]
    }
   ],
   "source": [
    "pip install tf-keras"
   ]
  },
  {
   "cell_type": "code",
   "execution_count": 10,
   "id": "b4464d84-f040-4a78-a53b-c1ae171769f4",
   "metadata": {},
   "outputs": [
    {
     "name": "stdout",
     "output_type": "stream",
     "text": [
      "Requirement already satisfied: torch in c:\\users\\dell\\anaconda3\\lib\\site-packages (2.4.1)\n",
      "Requirement already satisfied: torchvision in c:\\users\\dell\\anaconda3\\lib\\site-packages (0.19.1)\n",
      "Requirement already satisfied: torchaudio in c:\\users\\dell\\anaconda3\\lib\\site-packages (2.4.1)\n",
      "Requirement already satisfied: filelock in c:\\users\\dell\\anaconda3\\lib\\site-packages (from torch) (3.13.1)\n",
      "Requirement already satisfied: typing-extensions>=4.8.0 in c:\\users\\dell\\anaconda3\\lib\\site-packages (from torch) (4.12.2)\n",
      "Requirement already satisfied: sympy in c:\\users\\dell\\anaconda3\\lib\\site-packages (from torch) (1.12)\n",
      "Requirement already satisfied: networkx in c:\\users\\dell\\anaconda3\\lib\\site-packages (from torch) (3.1)\n",
      "Requirement already satisfied: jinja2 in c:\\users\\dell\\anaconda3\\lib\\site-packages (from torch) (3.1.3)\n",
      "Requirement already satisfied: fsspec in c:\\users\\dell\\anaconda3\\lib\\site-packages (from torch) (2023.10.0)\n",
      "Requirement already satisfied: numpy in c:\\users\\dell\\anaconda3\\lib\\site-packages (from torchvision) (1.26.4)\n",
      "Requirement already satisfied: pillow!=8.3.*,>=5.3.0 in c:\\users\\dell\\anaconda3\\lib\\site-packages (from torchvision) (10.2.0)\n",
      "Requirement already satisfied: MarkupSafe>=2.0 in c:\\users\\dell\\anaconda3\\lib\\site-packages (from jinja2->torch) (2.1.3)\n",
      "Requirement already satisfied: mpmath>=0.19 in c:\\users\\dell\\anaconda3\\lib\\site-packages (from sympy->torch) (1.3.0)\n",
      "Note: you may need to restart the kernel to use updated packages.\n"
     ]
    }
   ],
   "source": [
    "pip install torch torchvision torchaudio"
   ]
  },
  {
   "cell_type": "code",
   "execution_count": 8,
   "id": "ae205efa-ed09-4b7e-9ddb-ccabd93a3468",
   "metadata": {},
   "outputs": [
    {
     "name": "stdout",
     "output_type": "stream",
     "text": [
      "Collecting matplotlib\n",
      "  Downloading matplotlib-3.9.2-cp39-cp39-win_amd64.whl.metadata (11 kB)\n",
      "Collecting contourpy>=1.0.1 (from matplotlib)\n",
      "  Downloading contourpy-1.3.0-cp39-cp39-win_amd64.whl.metadata (5.4 kB)\n",
      "Collecting cycler>=0.10 (from matplotlib)\n",
      "  Using cached cycler-0.12.1-py3-none-any.whl.metadata (3.8 kB)\n",
      "Collecting fonttools>=4.22.0 (from matplotlib)\n",
      "  Downloading fonttools-4.55.0-cp39-cp39-win_amd64.whl.metadata (167 kB)\n",
      "Collecting kiwisolver>=1.3.1 (from matplotlib)\n",
      "  Downloading kiwisolver-1.4.7-cp39-cp39-win_amd64.whl.metadata (6.4 kB)\n",
      "Requirement already satisfied: numpy>=1.23 in c:\\users\\dell\\anaconda3\\envs\\easyocr-env\\lib\\site-packages (from matplotlib) (2.0.2)\n",
      "Requirement already satisfied: packaging>=20.0 in c:\\users\\dell\\anaconda3\\envs\\easyocr-env\\lib\\site-packages (from matplotlib) (24.2)\n",
      "Requirement already satisfied: pillow>=8 in c:\\users\\dell\\anaconda3\\envs\\easyocr-env\\lib\\site-packages (from matplotlib) (11.0.0)\n",
      "Collecting pyparsing>=2.3.1 (from matplotlib)\n",
      "  Using cached pyparsing-3.2.0-py3-none-any.whl.metadata (5.0 kB)\n",
      "Requirement already satisfied: python-dateutil>=2.7 in c:\\users\\dell\\anaconda3\\envs\\easyocr-env\\lib\\site-packages (from matplotlib) (2.9.0.post0)\n",
      "Collecting importlib-resources>=3.2.0 (from matplotlib)\n",
      "  Downloading importlib_resources-6.4.5-py3-none-any.whl.metadata (4.0 kB)\n",
      "Requirement already satisfied: zipp>=3.1.0 in c:\\users\\dell\\anaconda3\\envs\\easyocr-env\\lib\\site-packages (from importlib-resources>=3.2.0->matplotlib) (3.21.0)\n",
      "Requirement already satisfied: six>=1.5 in c:\\users\\dell\\anaconda3\\envs\\easyocr-env\\lib\\site-packages (from python-dateutil>=2.7->matplotlib) (1.16.0)\n",
      "Downloading matplotlib-3.9.2-cp39-cp39-win_amd64.whl (7.8 MB)\n",
      "   ---------------------------------------- 0.0/7.8 MB ? eta -:--:--\n",
      "   ---------------------------------------- 0.0/7.8 MB ? eta -:--:--\n",
      "   ---------------------------------------- 0.0/7.8 MB ? eta -:--:--\n",
      "   ---------------------------------------- 0.0/7.8 MB ? eta -:--:--\n",
      "   - -------------------------------------- 0.3/7.8 MB ? eta -:--:--\n",
      "   - -------------------------------------- 0.3/7.8 MB ? eta -:--:--\n",
      "   -- ------------------------------------- 0.5/7.8 MB 509.0 kB/s eta 0:00:15\n",
      "   -- ------------------------------------- 0.5/7.8 MB 509.0 kB/s eta 0:00:15\n",
      "   ---- ----------------------------------- 0.8/7.8 MB 524.3 kB/s eta 0:00:14\n",
      "   ---- ----------------------------------- 0.8/7.8 MB 524.3 kB/s eta 0:00:14\n",
      "   ---- ----------------------------------- 0.8/7.8 MB 524.3 kB/s eta 0:00:14\n",
      "   ----- ---------------------------------- 1.0/7.8 MB 519.1 kB/s eta 0:00:14\n",
      "   ----- ---------------------------------- 1.0/7.8 MB 519.1 kB/s eta 0:00:14\n",
      "   ----- ---------------------------------- 1.0/7.8 MB 519.1 kB/s eta 0:00:14\n",
      "   ------ --------------------------------- 1.3/7.8 MB 497.2 kB/s eta 0:00:14\n",
      "   ------ --------------------------------- 1.3/7.8 MB 497.2 kB/s eta 0:00:14\n",
      "   ------ --------------------------------- 1.3/7.8 MB 497.2 kB/s eta 0:00:14\n",
      "   -------- ------------------------------- 1.6/7.8 MB 468.6 kB/s eta 0:00:14\n",
      "   -------- ------------------------------- 1.6/7.8 MB 468.6 kB/s eta 0:00:14\n",
      "   -------- ------------------------------- 1.6/7.8 MB 468.6 kB/s eta 0:00:14\n",
      "   --------- ------------------------------ 1.8/7.8 MB 461.8 kB/s eta 0:00:13\n",
      "   --------- ------------------------------ 1.8/7.8 MB 461.8 kB/s eta 0:00:13\n",
      "   --------- ------------------------------ 1.8/7.8 MB 461.8 kB/s eta 0:00:13\n",
      "   ---------- ----------------------------- 2.1/7.8 MB 439.8 kB/s eta 0:00:13\n",
      "   ---------- ----------------------------- 2.1/7.8 MB 439.8 kB/s eta 0:00:13\n",
      "   ---------- ----------------------------- 2.1/7.8 MB 439.8 kB/s eta 0:00:13\n",
      "   ------------ --------------------------- 2.4/7.8 MB 435.8 kB/s eta 0:00:13\n",
      "   ------------ --------------------------- 2.4/7.8 MB 435.8 kB/s eta 0:00:13\n",
      "   ------------ --------------------------- 2.4/7.8 MB 435.8 kB/s eta 0:00:13\n",
      "   ------------- -------------------------- 2.6/7.8 MB 433.9 kB/s eta 0:00:12\n",
      "   ------------- -------------------------- 2.6/7.8 MB 433.9 kB/s eta 0:00:12\n",
      "   ------------- -------------------------- 2.6/7.8 MB 433.9 kB/s eta 0:00:12\n",
      "   -------------- ------------------------- 2.9/7.8 MB 433.5 kB/s eta 0:00:12\n",
      "   -------------- ------------------------- 2.9/7.8 MB 433.5 kB/s eta 0:00:12\n",
      "   ---------------- ----------------------- 3.1/7.8 MB 436.3 kB/s eta 0:00:11\n",
      "   ---------------- ----------------------- 3.1/7.8 MB 436.3 kB/s eta 0:00:11\n",
      "   ---------------- ----------------------- 3.1/7.8 MB 436.3 kB/s eta 0:00:11\n",
      "   ----------------- ---------------------- 3.4/7.8 MB 446.4 kB/s eta 0:00:10\n",
      "   ----------------- ---------------------- 3.4/7.8 MB 446.4 kB/s eta 0:00:10\n",
      "   ------------------ --------------------- 3.7/7.8 MB 451.6 kB/s eta 0:00:10\n",
      "   ------------------ --------------------- 3.7/7.8 MB 451.6 kB/s eta 0:00:10\n",
      "   ------------------ --------------------- 3.7/7.8 MB 451.6 kB/s eta 0:00:10\n",
      "   -------------------- ------------------- 3.9/7.8 MB 445.7 kB/s eta 0:00:09\n",
      "   -------------------- ------------------- 3.9/7.8 MB 445.7 kB/s eta 0:00:09\n",
      "   -------------------- ------------------- 3.9/7.8 MB 445.7 kB/s eta 0:00:09\n",
      "   --------------------- ------------------ 4.2/7.8 MB 444.6 kB/s eta 0:00:09\n",
      "   --------------------- ------------------ 4.2/7.8 MB 444.6 kB/s eta 0:00:09\n",
      "   --------------------- ------------------ 4.2/7.8 MB 444.6 kB/s eta 0:00:09\n",
      "   ---------------------- ----------------- 4.5/7.8 MB 440.1 kB/s eta 0:00:08\n",
      "   ---------------------- ----------------- 4.5/7.8 MB 440.1 kB/s eta 0:00:08\n",
      "   ---------------------- ----------------- 4.5/7.8 MB 440.1 kB/s eta 0:00:08\n",
      "   ------------------------ --------------- 4.7/7.8 MB 439.5 kB/s eta 0:00:08\n",
      "   ------------------------ --------------- 4.7/7.8 MB 439.5 kB/s eta 0:00:08\n",
      "   ------------------------- -------------- 5.0/7.8 MB 442.1 kB/s eta 0:00:07\n",
      "   ------------------------- -------------- 5.0/7.8 MB 442.1 kB/s eta 0:00:07\n",
      "   ------------------------- -------------- 5.0/7.8 MB 442.1 kB/s eta 0:00:07\n",
      "   ------------------------- -------------- 5.0/7.8 MB 442.1 kB/s eta 0:00:07\n",
      "   ------------------------- -------------- 5.0/7.8 MB 442.1 kB/s eta 0:00:07\n",
      "   ------------------------- -------------- 5.0/7.8 MB 442.1 kB/s eta 0:00:07\n",
      "   ------------------------- -------------- 5.0/7.8 MB 442.1 kB/s eta 0:00:07\n",
      "   ------------------------- -------------- 5.0/7.8 MB 442.1 kB/s eta 0:00:07\n",
      "   ------------------------- -------------- 5.0/7.8 MB 442.1 kB/s eta 0:00:07\n",
      "   -------------------------- ------------- 5.2/7.8 MB 399.0 kB/s eta 0:00:07\n",
      "   -------------------------- ------------- 5.2/7.8 MB 399.0 kB/s eta 0:00:07\n",
      "   -------------------------- ------------- 5.2/7.8 MB 399.0 kB/s eta 0:00:07\n",
      "   ---------------------------- ----------- 5.5/7.8 MB 399.9 kB/s eta 0:00:06\n",
      "   ---------------------------- ----------- 5.5/7.8 MB 399.9 kB/s eta 0:00:06\n",
      "   ---------------------------- ----------- 5.5/7.8 MB 399.9 kB/s eta 0:00:06\n",
      "   ----------------------------- ---------- 5.8/7.8 MB 400.8 kB/s eta 0:00:06\n",
      "   ----------------------------- ---------- 5.8/7.8 MB 400.8 kB/s eta 0:00:06\n",
      "   ----------------------------- ---------- 5.8/7.8 MB 400.8 kB/s eta 0:00:06\n",
      "   ------------------------------ --------- 6.0/7.8 MB 401.6 kB/s eta 0:00:05\n",
      "   ------------------------------ --------- 6.0/7.8 MB 401.6 kB/s eta 0:00:05\n",
      "   ------------------------------ --------- 6.0/7.8 MB 401.6 kB/s eta 0:00:05\n",
      "   -------------------------------- ------- 6.3/7.8 MB 404.1 kB/s eta 0:00:04\n",
      "   -------------------------------- ------- 6.3/7.8 MB 404.1 kB/s eta 0:00:04\n",
      "   --------------------------------- ------ 6.6/7.8 MB 408.0 kB/s eta 0:00:04\n",
      "   --------------------------------- ------ 6.6/7.8 MB 408.0 kB/s eta 0:00:04\n",
      "   ---------------------------------- ----- 6.8/7.8 MB 412.4 kB/s eta 0:00:03\n",
      "   ---------------------------------- ----- 6.8/7.8 MB 412.4 kB/s eta 0:00:03\n",
      "   ---------------------------------- ----- 6.8/7.8 MB 412.4 kB/s eta 0:00:03\n",
      "   ------------------------------------ --- 7.1/7.8 MB 413.1 kB/s eta 0:00:02\n",
      "   ------------------------------------ --- 7.1/7.8 MB 413.1 kB/s eta 0:00:02\n",
      "   ------------------------------------ --- 7.1/7.8 MB 413.1 kB/s eta 0:00:02\n",
      "   ------------------------------------- -- 7.3/7.8 MB 412.2 kB/s eta 0:00:02\n",
      "   ------------------------------------- -- 7.3/7.8 MB 412.2 kB/s eta 0:00:02\n",
      "   ------------------------------------- -- 7.3/7.8 MB 412.2 kB/s eta 0:00:02\n",
      "   -------------------------------------- - 7.6/7.8 MB 413.9 kB/s eta 0:00:01\n",
      "   -------------------------------------- - 7.6/7.8 MB 413.9 kB/s eta 0:00:01\n",
      "   -------------------------------------- - 7.6/7.8 MB 413.9 kB/s eta 0:00:01\n",
      "   ---------------------------------------- 7.8/7.8 MB 410.6 kB/s eta 0:00:00\n",
      "Downloading contourpy-1.3.0-cp39-cp39-win_amd64.whl (211 kB)\n",
      "Using cached cycler-0.12.1-py3-none-any.whl (8.3 kB)\n",
      "Downloading fonttools-4.55.0-cp39-cp39-win_amd64.whl (2.2 MB)\n",
      "   ---------------------------------------- 0.0/2.2 MB ? eta -:--:--\n",
      "   ---------------------------------------- 0.0/2.2 MB ? eta -:--:--\n",
      "   ---------------------------------------- 0.0/2.2 MB ? eta -:--:--\n",
      "   ---------------------------------------- 0.0/2.2 MB ? eta -:--:--\n",
      "   ---------------------------------------- 0.0/2.2 MB ? eta -:--:--\n",
      "   ---- ----------------------------------- 0.3/2.2 MB ? eta -:--:--\n",
      "   ---- ----------------------------------- 0.3/2.2 MB ? eta -:--:--\n",
      "   ---- ----------------------------------- 0.3/2.2 MB ? eta -:--:--\n",
      "   --------- ------------------------------ 0.5/2.2 MB 390.1 kB/s eta 0:00:05\n",
      "   --------- ------------------------------ 0.5/2.2 MB 390.1 kB/s eta 0:00:05\n",
      "   --------- ------------------------------ 0.5/2.2 MB 390.1 kB/s eta 0:00:05\n",
      "   --------- ------------------------------ 0.5/2.2 MB 390.1 kB/s eta 0:00:05\n",
      "   --------- ------------------------------ 0.5/2.2 MB 390.1 kB/s eta 0:00:05\n",
      "   -------------- ------------------------- 0.8/2.2 MB 302.2 kB/s eta 0:00:05\n",
      "   -------------- ------------------------- 0.8/2.2 MB 302.2 kB/s eta 0:00:05\n",
      "   -------------- ------------------------- 0.8/2.2 MB 302.2 kB/s eta 0:00:05\n",
      "   -------------- ------------------------- 0.8/2.2 MB 302.2 kB/s eta 0:00:05\n",
      "   ------------------ --------------------- 1.0/2.2 MB 299.6 kB/s eta 0:00:04\n",
      "   ------------------ --------------------- 1.0/2.2 MB 299.6 kB/s eta 0:00:04\n",
      "   ----------------------- ---------------- 1.3/2.2 MB 335.5 kB/s eta 0:00:03\n",
      "   ----------------------- ---------------- 1.3/2.2 MB 335.5 kB/s eta 0:00:03\n",
      "   ---------------------------- ----------- 1.6/2.2 MB 372.8 kB/s eta 0:00:02\n",
      "   ---------------------------- ----------- 1.6/2.2 MB 372.8 kB/s eta 0:00:02\n",
      "   --------------------------------- ------ 1.8/2.2 MB 393.2 kB/s eta 0:00:01\n",
      "   --------------------------------- ------ 1.8/2.2 MB 393.2 kB/s eta 0:00:01\n",
      "   --------------------------------- ------ 1.8/2.2 MB 393.2 kB/s eta 0:00:01\n",
      "   ------------------------------------- -- 2.1/2.2 MB 410.6 kB/s eta 0:00:01\n",
      "   ---------------------------------------- 2.2/2.2 MB 415.0 kB/s eta 0:00:00\n",
      "Downloading importlib_resources-6.4.5-py3-none-any.whl (36 kB)\n",
      "Downloading kiwisolver-1.4.7-cp39-cp39-win_amd64.whl (55 kB)\n",
      "Using cached pyparsing-3.2.0-py3-none-any.whl (106 kB)\n",
      "Installing collected packages: pyparsing, kiwisolver, importlib-resources, fonttools, cycler, contourpy, matplotlib\n",
      "Successfully installed contourpy-1.3.0 cycler-0.12.1 fonttools-4.55.0 importlib-resources-6.4.5 kiwisolver-1.4.7 matplotlib-3.9.2 pyparsing-3.2.0\n",
      "Note: you may need to restart the kernel to use updated packages.\n"
     ]
    }
   ],
   "source": [
    "pip install matplotlib"
   ]
  },
  {
   "cell_type": "code",
   "execution_count": 5,
   "id": "058766b5-ffef-4916-9fea-2cf059e86d3a",
   "metadata": {},
   "outputs": [],
   "source": [
    "import easyocr\n",
    "import cv2\n",
    "from matplotlib import pyplot as plt\n",
    "import numpy as np"
   ]
  },
  {
   "cell_type": "markdown",
   "id": "d7a96df7-1a6d-4f3a-98f5-ae682aaa6083",
   "metadata": {},
   "source": [
    "1. Read Images or Video"
   ]
  },
  {
   "cell_type": "code",
   "execution_count": 18,
   "id": "499a6503-6c34-489a-9926-353f8e84dec3",
   "metadata": {},
   "outputs": [],
   "source": [
    "IMAGE_PATH = 'detect.webp'"
   ]
  },
  {
   "cell_type": "code",
   "execution_count": 19,
   "id": "f2186474-4232-4ad3-b1b6-40353d358557",
   "metadata": {},
   "outputs": [
    {
     "name": "stderr",
     "output_type": "stream",
     "text": [
      "Using CPU. Note: This module is much faster with a GPU.\n"
     ]
    },
    {
     "name": "stdout",
     "output_type": "stream",
     "text": [
      "[([[np.int32(395), np.int32(160)], [np.int32(773), np.int32(160)], [np.int32(773), np.int32(328)], [np.int32(395), np.int32(328)]], 'CckE', np.float64(0.23883458971977234))]\n"
     ]
    }
   ],
   "source": [
    "import easyocr\n",
    "reader = easyocr.Reader(['en'], gpu = False)\n",
    "result = reader.readtext(IMAGE_PATH)\n",
    "print(result)"
   ]
  },
  {
   "cell_type": "code",
   "execution_count": 20,
   "id": "8530c56b-9f35-43af-87a5-94c23c63f2e4",
   "metadata": {},
   "outputs": [
    {
     "data": {
      "text/plain": [
       "([[np.int32(395), np.int32(160)],\n",
       "  [np.int32(773), np.int32(160)],\n",
       "  [np.int32(773), np.int32(328)],\n",
       "  [np.int32(395), np.int32(328)]],\n",
       " 'CckE',\n",
       " np.float64(0.23883458971977234))"
      ]
     },
     "execution_count": 20,
     "metadata": {},
     "output_type": "execute_result"
    }
   ],
   "source": [
    "result[0]"
   ]
  },
  {
   "cell_type": "markdown",
   "id": "ec966ad1-3e10-4776-a564-6a672d16677c",
   "metadata": {},
   "source": [
    "2. Draw the Result"
   ]
  },
  {
   "cell_type": "code",
   "execution_count": 21,
   "id": "3d9d6465-ac7b-4fc0-bae6-5b628a664571",
   "metadata": {},
   "outputs": [],
   "source": [
    "top_left = tuple(result[0][0][0])\n",
    "bottom_right = tuple(result[0][0][2])\n",
    "text = result[0][1]\n",
    "font = cv2.FONT_HERSHEY_SIMPLEX"
   ]
  },
  {
   "cell_type": "code",
   "execution_count": 22,
   "id": "059fc2a2-ccb6-46e6-9c66-ff7713eddac2",
   "metadata": {},
   "outputs": [
    {
     "data": {
      "image/png": "[encoded data removed]",
      "text/plain": [
       "<Figure size 640x480 with 1 Axes>"
      ]
     },
     "metadata": {},
     "output_type": "display_data"
    }
   ],
   "source": [
    "img = cv2.imread(IMAGE_PATH)\n",
    "img = cv2.rectangle(img, top_left, bottom_right, (0,255,0), 5)\n",
    "img = cv2.putText(img, text, top_left, font, .5, (255, 255, 255),2, cv2.LINE_AA)\n",
    "# Display the result using Matplotlib\n",
    "plt.imshow(cv2.cvtColor(img, cv2.COLOR_BGR2RGB))\n",
    "# plt.imshow(img)\n",
    "# plt.axis('off')\n",
    "plt.show()"
   ]
  },
  {
   "cell_type": "code",
   "execution_count": null,
   "id": "4c87fe21-22e0-46d6-8746-85c03eed419d",
   "metadata": {},
   "outputs": [],
   "source": []
  }
 ],
 "metadata": {
  "kernelspec": {
   "display_name": "Python 3 (ipykernel)",
   "language": "python",
   "name": "python3"
  },
  "language_info": {
   "codemirror_mode": {
    "name": "ipython",
    "version": 3
   },
   "file_extension": ".py",
   "mimetype": "text/x-python",
   "name": "python",
   "nbconvert_exporter": "python",
   "pygments_lexer": "ipython3",
   "version": "3.9.20"
  }
 },
 "nbformat": 4,
 "nbformat_minor": 5
}
